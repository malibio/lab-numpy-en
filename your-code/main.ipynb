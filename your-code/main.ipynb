{
 "cells": [
  {
   "cell_type": "markdown",
   "metadata": {},
   "source": [
    "# Lab | Numpy Deep Dive"
   ]
  },
  {
   "cell_type": "markdown",
   "metadata": {},
   "source": [
    "### 1. Import the NUMPY package under the name np.\n"
   ]
  },
  {
   "cell_type": "code",
   "execution_count": 1,
   "metadata": {},
   "outputs": [],
   "source": [
    "### [your code here]\n",
    "import numpy as np"
   ]
  },
  {
   "cell_type": "markdown",
   "metadata": {},
   "source": [
    "\n",
    "\n",
    "### 2. Print the NUMPY version and the configuration.\n"
   ]
  },
  {
   "cell_type": "code",
   "execution_count": 2,
   "metadata": {},
   "outputs": [
    {
     "data": {
      "text/plain": [
       "'1.26.4'"
      ]
     },
     "execution_count": 2,
     "metadata": {},
     "output_type": "execute_result"
    }
   ],
   "source": [
    "### [your code here]\n",
    "np.__version__"
   ]
  },
  {
   "cell_type": "markdown",
   "metadata": {},
   "source": [
    "### 3. Generate a 2x3x5 3-dimensional array with random values. Assign the array to variable \"a\"\n",
    "Challenge: there are at least three easy ways that use numpy to generate random arrays. How many ways can you find?\n"
   ]
  },
  {
   "cell_type": "code",
   "execution_count": 10,
   "metadata": {},
   "outputs": [],
   "source": [
    "### [your code here]\n",
    "a = np.random.random((2, 3, 5))\n",
    "a2 = np.random.rand(2, 3, 5)\n",
    "a3 = np.random.randn(2, 3, 5)"
   ]
  },
  {
   "cell_type": "markdown",
   "metadata": {},
   "source": [
    "\n",
    "### 4. Print a.\n"
   ]
  },
  {
   "cell_type": "code",
   "execution_count": 7,
   "metadata": {},
   "outputs": [
    {
     "name": "stdout",
     "output_type": "stream",
     "text": [
      "[[[5.62423571e-01 8.18312558e-01 4.76092020e-02 8.01574023e-01\n",
      "   5.10236022e-01]\n",
      "  [7.07721298e-01 9.53005556e-01 5.63375902e-01 7.09106679e-01\n",
      "   4.23994214e-01]\n",
      "  [8.65224030e-01 6.99652418e-01 5.72557871e-01 4.57245377e-04\n",
      "   6.10327360e-01]]\n",
      "\n",
      " [[8.74537161e-01 9.18606362e-01 8.17248745e-01 4.04086835e-02\n",
      "   6.49939117e-01]\n",
      "  [7.03813168e-01 7.36547803e-03 4.76672046e-01 6.37021959e-01\n",
      "   9.85890604e-01]\n",
      "  [2.43304679e-01 6.61411206e-01 5.49272701e-01 6.63098200e-01\n",
      "   2.15925209e-01]]]\n"
     ]
    }
   ],
   "source": [
    "### [your code here]\n",
    "print(a)"
   ]
  },
  {
   "cell_type": "markdown",
   "metadata": {},
   "source": [
    "### 5. Create a 5x2x3 3-dimensional array with all values equaling 1.\n",
    "### Assign the array to variable \"b\"\n"
   ]
  },
  {
   "cell_type": "code",
   "execution_count": 8,
   "metadata": {},
   "outputs": [],
   "source": [
    "### [your code here]\n",
    "b = np.ones((5,2,3))"
   ]
  },
  {
   "cell_type": "markdown",
   "metadata": {},
   "source": [
    "\n",
    "### 6. Print b.\n"
   ]
  },
  {
   "cell_type": "code",
   "execution_count": 9,
   "metadata": {},
   "outputs": [
    {
     "name": "stdout",
     "output_type": "stream",
     "text": [
      "[[[1. 1. 1.]\n",
      "  [1. 1. 1.]]\n",
      "\n",
      " [[1. 1. 1.]\n",
      "  [1. 1. 1.]]\n",
      "\n",
      " [[1. 1. 1.]\n",
      "  [1. 1. 1.]]\n",
      "\n",
      " [[1. 1. 1.]\n",
      "  [1. 1. 1.]]\n",
      "\n",
      " [[1. 1. 1.]\n",
      "  [1. 1. 1.]]]\n"
     ]
    }
   ],
   "source": [
    "### [your code here]\n",
    "print(b)"
   ]
  },
  {
   "cell_type": "markdown",
   "metadata": {},
   "source": [
    "\n",
    "### 7. Do a and b have the same size? How do you prove that in Python code?\n"
   ]
  },
  {
   "cell_type": "code",
   "execution_count": 11,
   "metadata": {},
   "outputs": [
    {
     "name": "stdout",
     "output_type": "stream",
     "text": [
      "Array a total elements: 30\n",
      "Array b total elements: 30\n",
      "Do a and b have the same number of elements? True\n"
     ]
    }
   ],
   "source": [
    "### [your code here]\n",
    "total_elements_a = a.size\n",
    "total_elements_b = b.size\n",
    "same_size = total_elements_a == total_elements_b\n",
    "\n",
    "print(f\"Array a total elements: {total_elements_a}\")\n",
    "print(f\"Array b total elements: {total_elements_b}\")\n",
    "print(f\"Do a and b have the same number of elements? {same_size}\")"
   ]
  },
  {
   "cell_type": "markdown",
   "metadata": {},
   "source": [
    "\n",
    "### 8. Are you able to add a and b? Why or why not?\n"
   ]
  },
  {
   "cell_type": "code",
   "execution_count": 12,
   "metadata": {},
   "outputs": [
    {
     "name": "stdout",
     "output_type": "stream",
     "text": [
      "Error: operands could not be broadcast together with shapes (2,3,5) (5,2,3) \n"
     ]
    }
   ],
   "source": [
    "### [your code here]\n",
    "try:\n",
    "    sum_of_a_b = a + b\n",
    "except ValueError as e:\n",
    "    print(f\"Error: {e}\")"
   ]
  },
  {
   "cell_type": "markdown",
   "metadata": {},
   "source": [
    "\n",
    "\n",
    "### 9. Transpose b so that it has the same structure of a (i.e. become a 2x3x5 array). Assign the transposed array to varialbe \"c\".\n"
   ]
  },
  {
   "cell_type": "code",
   "execution_count": 14,
   "metadata": {},
   "outputs": [
    {
     "name": "stdout",
     "output_type": "stream",
     "text": [
      "[[[1. 1. 1. 1. 1.]\n",
      "  [1. 1. 1. 1. 1.]\n",
      "  [1. 1. 1. 1. 1.]]\n",
      "\n",
      " [[1. 1. 1. 1. 1.]\n",
      "  [1. 1. 1. 1. 1.]\n",
      "  [1. 1. 1. 1. 1.]]]\n"
     ]
    }
   ],
   "source": [
    "### [your code here]\n",
    "c = b.transpose(1, 2, 0)\n",
    "print(c)"
   ]
  },
  {
   "cell_type": "markdown",
   "metadata": {},
   "source": [
    "\n",
    "### 10. Try to add a and c. Now it should work. Assign the sum to variable \"d\". But why does it work now?\n"
   ]
  },
  {
   "cell_type": "code",
   "execution_count": 19,
   "metadata": {},
   "outputs": [
    {
     "name": "stdout",
     "output_type": "stream",
     "text": [
      "[[[1.32390999 1.41345843 1.69502786 1.9917908  1.80407933]\n",
      "  [1.66384884 1.51761612 1.5302965  1.35513148 1.94830687]\n",
      "  [1.48519849 1.7759716  1.02051551 1.74549151 1.73272023]]\n",
      "\n",
      " [[1.45254998 1.09302841 1.28597956 1.14710923 1.17547163]\n",
      "  [1.90178872 1.81578756 1.16314141 1.60833701 1.95950749]\n",
      "  [1.78962359 1.41674694 1.48719084 1.09713034 1.49630455]]]\n"
     ]
    }
   ],
   "source": [
    "### [your code here]\n",
    "\n",
    "try:\n",
    "    d = a + c\n",
    "    print(d)\n",
    "except ValueError as e:\n",
    "    print(f\"Error: {e}\")"
   ]
  },
  {
   "cell_type": "markdown",
   "metadata": {},
   "source": [
    "\n",
    "### 11. Print a and d. Notice the difference and relation of the two array in terms of the values? Explain.\n"
   ]
  },
  {
   "cell_type": "code",
   "execution_count": 20,
   "metadata": {},
   "outputs": [
    {
     "name": "stdout",
     "output_type": "stream",
     "text": [
      "[[[0.32390999 0.41345843 0.69502786 0.9917908  0.80407933]\n",
      "  [0.66384884 0.51761612 0.5302965  0.35513148 0.94830687]\n",
      "  [0.48519849 0.7759716  0.02051551 0.74549151 0.73272023]]\n",
      "\n",
      " [[0.45254998 0.09302841 0.28597956 0.14710923 0.17547163]\n",
      "  [0.90178872 0.81578756 0.16314141 0.60833701 0.95950749]\n",
      "  [0.78962359 0.41674694 0.48719084 0.09713034 0.49630455]]]\n",
      "[[[1.32390999 1.41345843 1.69502786 1.9917908  1.80407933]\n",
      "  [1.66384884 1.51761612 1.5302965  1.35513148 1.94830687]\n",
      "  [1.48519849 1.7759716  1.02051551 1.74549151 1.73272023]]\n",
      "\n",
      " [[1.45254998 1.09302841 1.28597956 1.14710923 1.17547163]\n",
      "  [1.90178872 1.81578756 1.16314141 1.60833701 1.95950749]\n",
      "  [1.78962359 1.41674694 1.48719084 1.09713034 1.49630455]]]\n"
     ]
    }
   ],
   "source": [
    "### [your code here]\n",
    "print(a)\n",
    "print(d)\n"
   ]
  },
  {
   "cell_type": "markdown",
   "metadata": {},
   "source": [
    "\n",
    "### 12. Multiply a and c. Assign the result to e.\n"
   ]
  },
  {
   "cell_type": "code",
   "execution_count": 21,
   "metadata": {},
   "outputs": [],
   "source": [
    "### [your code here]\n",
    "e = a * c"
   ]
  },
  {
   "cell_type": "markdown",
   "metadata": {},
   "source": [
    "\n",
    "\n",
    "### 13. Does e equal to a? Why or why not?\n"
   ]
  },
  {
   "cell_type": "code",
   "execution_count": 31,
   "metadata": {},
   "outputs": [
    {
     "name": "stdout",
     "output_type": "stream",
     "text": [
      "[[[ True  True  True  True  True]\n",
      "  [ True  True  True  True  True]\n",
      "  [ True  True  True  True  True]]\n",
      "\n",
      " [[ True  True  True  True  True]\n",
      "  [ True  True  True  True  True]\n",
      "  [ True  True  True  True  True]]]\n"
     ]
    }
   ],
   "source": [
    "### [your code here]\n",
    "print(e == a)\n"
   ]
  },
  {
   "cell_type": "markdown",
   "metadata": {},
   "source": [
    "\n",
    "\n",
    "### 14. Identify the max, min, and mean values in d. Assign those values to variables \"d_max\", \"d_min\", and \"d_mean\"\n"
   ]
  },
  {
   "cell_type": "code",
   "execution_count": 28,
   "metadata": {},
   "outputs": [
    {
     "name": "stdout",
     "output_type": "stream",
     "text": [
      "Max: 1.991790796882525\n",
      "Min: 1.0205155094520564\n",
      "Mean: 1.5297686931980106\n"
     ]
    }
   ],
   "source": [
    "### [your code here]\n",
    "d_max = d.max()\n",
    "d_min = d.min()\n",
    "d_mean = d.mean()\n",
    "\n",
    "print(f\"Max: {d_max}\")\n",
    "print(f\"Min: {d_min}\")\n",
    "print(f\"Mean: {d_mean}\")\n"
   ]
  },
  {
   "cell_type": "markdown",
   "metadata": {},
   "source": [
    "\n",
    "### 15. Now we want to label the values in d. First create an empty array \"f\" with the same shape (i.e. 2x3x5) as d using `np.empty`.\n"
   ]
  },
  {
   "cell_type": "code",
   "execution_count": 26,
   "metadata": {},
   "outputs": [],
   "source": [
    "### [your code here]\n",
    "f = np.empty(d.shape)"
   ]
  },
  {
   "cell_type": "markdown",
   "metadata": {},
   "source": [
    "\n",
    "\n",
    "\n",
    "### 16. Populate the values in f. For each value in d, if it's larger than d_min but smaller than d_mean, assign 25 to the corresponding value in f.\n",
    "If a value in d is larger than d_mean but smaller than d_max, assign 75 to the corresponding value in f.\n",
    "If a value equals to d_mean, assign 50 to the corresponding value in f.\n",
    "Assign 0 to the corresponding value(s) in f for d_min in d.\n",
    "Assign 100 to the corresponding value(s) in f for d_max in d.\n",
    "In the end, f should have only the following values: 0, 25, 50, 75, and 100.\n",
    "Note: you don't have to use Numpy in this question.\n",
    "\n"
   ]
  },
  {
   "cell_type": "code",
   "execution_count": 29,
   "metadata": {},
   "outputs": [],
   "source": [
    "### [your code here]\n",
    "# Assign 0 to f where d equals d_min\n",
    "f[d == d_min] = 0\n",
    "\n",
    "# Assign 100 to f where d equals d_max\n",
    "f[d == d_max] = 100\n",
    "\n",
    "# Assign 50 to f where d equals d_mean\n",
    "f[d == d_mean] = 50\n",
    "\n",
    "# Assign 25 to f where d is larger than d_min AND smaller than d_mean\n",
    "f[(d > d_min) & (d < d_mean)] = 25\n",
    "\n",
    "# Assign 75 to f where d is larger than d_mean AND smaller than d_max\n",
    "f[(d > d_mean) & (d < d_max)] = 75"
   ]
  },
  {
   "cell_type": "markdown",
   "metadata": {},
   "source": [
    "\n",
    "\n",
    "\n",
    "\n",
    "### 17. Print d and f. Do you have your expected f?\n",
    "For instance, if your d is:\n",
    "array([[[1.85836099, 1.67064465, 1.62576044, 1.40243961, 1.88454931],\n",
    "        [1.75354326, 1.69403643, 1.36729252, 1.61415071, 1.12104981],\n",
    "        [1.72201435, 1.1862918 , 1.87078449, 1.7726778 , 1.88180042]],\n",
    "\n",
    "       [[1.44747908, 1.31673383, 1.02000951, 1.52218947, 1.97066381],\n",
    "        [1.79129243, 1.74983003, 1.96028037, 1.85166831, 1.65450881],\n",
    "        [1.18068344, 1.9587381 , 1.00656599, 1.93402165, 1.73514584]]])\n",
    "\n",
    "Your f should be:\n",
    "array([[[ 75.,  75.,  75.,  25.,  75.],\n",
    "        [ 75.,  75.,  25.,  25.,  25.],\n",
    "        [ 75.,  25.,  75.,  75.,  75.]],\n",
    "\n",
    "       [[ 25.,  25.,  25.,  25., 100.],\n",
    "        [ 75.,  75.,  75.,  75.,  75.],\n",
    "        [ 25.,  75.,   0.,  75.,  75.]]])\n",
    "\n"
   ]
  },
  {
   "cell_type": "code",
   "execution_count": 30,
   "metadata": {},
   "outputs": [
    {
     "name": "stdout",
     "output_type": "stream",
     "text": [
      "[[[1.32390999 1.41345843 1.69502786 1.9917908  1.80407933]\n",
      "  [1.66384884 1.51761612 1.5302965  1.35513148 1.94830687]\n",
      "  [1.48519849 1.7759716  1.02051551 1.74549151 1.73272023]]\n",
      "\n",
      " [[1.45254998 1.09302841 1.28597956 1.14710923 1.17547163]\n",
      "  [1.90178872 1.81578756 1.16314141 1.60833701 1.95950749]\n",
      "  [1.78962359 1.41674694 1.48719084 1.09713034 1.49630455]]]\n",
      "[[[ 25.  25.  75. 100.  75.]\n",
      "  [ 75.  25.  75.  25.  75.]\n",
      "  [ 25.  75.   0.  75.  75.]]\n",
      "\n",
      " [[ 25.  25.  25.  25.  25.]\n",
      "  [ 75.  75.  25.  75.  75.]\n",
      "  [ 75.  25.  25.  25.  25.]]]\n"
     ]
    }
   ],
   "source": [
    "### [your code here]\n",
    "print(d)\n",
    "print(f)"
   ]
  },
  {
   "cell_type": "markdown",
   "metadata": {},
   "source": [
    "### 18. Bonus question: instead of using numbers (i.e. 0, 25, 50, 75, and 100), how to use string values \n",
    "(\"A\", \"B\", \"C\", \"D\", and \"E\") to label the array elements? You are expecting the result to be:\n",
    "array([[[ 'D',  'D',  'D',  'B',  'D'],\n",
    "        [ 'D',  'D',  'B',  'B',  'B'],\n",
    "        [ 'D',  'B',  'D',  'D',  'D']],\n",
    "\n",
    "       [[ 'B',  'B',  'B',  'B',  'E'],\n",
    "        [ 'D',  'D',  'D',  'D',  'D'],\n",
    "        [ 'B',  'D',   'A',  'D', 'D']]])\n",
    "Again, you don't need Numpy in this question."
   ]
  },
  {
   "cell_type": "code",
   "execution_count": 35,
   "metadata": {},
   "outputs": [
    {
     "name": "stdout",
     "output_type": "stream",
     "text": [
      "[[['D' 'D' 'B' 'E' 'B']\n",
      "  ['B' 'D' 'B' 'D' 'B']\n",
      "  ['D' 'B' 'A' 'B' 'B']]\n",
      "\n",
      " [['D' 'D' 'D' 'D' 'D']\n",
      "  ['B' 'B' 'D' 'B' 'B']\n",
      "  ['B' 'D' 'D' 'D' 'D']]]\n"
     ]
    }
   ],
   "source": [
    "### [your code here]\n",
    "f = np.empty(d.shape, dtype='<U1')\n",
    "\n",
    "f[d == d_min] = \"A\"\n",
    "\n",
    "# Assign \"E\" to f where d equals d_max\n",
    "f[d == d_max] = \"E\"\n",
    "\n",
    "# Assign \"C\" to f where d equals d_mean\n",
    "f[d == d_mean] = \"C\"\n",
    "\n",
    "# Assign \"D\" to f where d is larger than d_min AND smaller than d_mean\n",
    "f[(d > d_min) & (d < d_mean)] = \"D\"\n",
    "\n",
    "# Assign \"B\" to f where d is larger than d_mean AND smaller than d_max\n",
    "f[(d > d_mean) & (d < d_max)] = \"B\"\n",
    "\n",
    "print(f)"
   ]
  }
 ],
 "metadata": {
  "kernelspec": {
   "display_name": "base",
   "language": "python",
   "name": "python3"
  },
  "language_info": {
   "codemirror_mode": {
    "name": "ipython",
    "version": 3
   },
   "file_extension": ".py",
   "mimetype": "text/x-python",
   "name": "python",
   "nbconvert_exporter": "python",
   "pygments_lexer": "ipython3",
   "version": "3.12.7"
  }
 },
 "nbformat": 4,
 "nbformat_minor": 2
}
